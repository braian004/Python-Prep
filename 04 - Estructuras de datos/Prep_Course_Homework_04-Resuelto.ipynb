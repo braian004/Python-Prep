{
  "cells": [
    {
      "cell_type": "markdown",
      "metadata": {
        "id": "view-in-github",
        "colab_type": "text"
      },
      "source": [
        "<a href=\"https://colab.research.google.com/github/braian004/Python-Prep/blob/main/04%20-%20Estructuras%20de%20datos/Prep_Course_Homework_04-Resuelto.ipynb\" target=\"_parent\"><img src=\"https://colab.research.google.com/assets/colab-badge.svg\" alt=\"Open In Colab\"/></a>"
      ]
    },
    {
      "cell_type": "markdown",
      "metadata": {
        "id": "478ckUOP2lIe"
      },
      "source": [
        "## Estructuras de Datos"
      ]
    },
    {
      "cell_type": "markdown",
      "metadata": {
        "id": "i1SWeUtz2lJB"
      },
      "source": [
        "1) Crear una lista que contenga nombres de ciudades del mundo que contenga más de 5 elementos e imprimir por pantalla"
      ]
    },
    {
      "cell_type": "code",
      "execution_count": 2,
      "metadata": {
        "id": "xuK1u0u_2lJF",
        "outputId": "f54a5cf9-bbc9-4992-a4b0-6778ffd59182",
        "colab": {
          "base_uri": "https://localhost:8080/"
        }
      },
      "outputs": [
        {
          "output_type": "stream",
          "name": "stdout",
          "text": [
            "['Buenos Aires', 'Brasilia', 'Asunción', 'Montevideo', 'Santiago', 'Lima', 'Caracas', 'Bogotá']\n"
          ]
        }
      ],
      "source": [
        "lis = ['Buenos Aires','Brasilia','Asunción','Montevideo','Santiago','Lima','Caracas','Bogotá']\n",
        "print(lis)"
      ]
    },
    {
      "cell_type": "markdown",
      "metadata": {
        "id": "OHa4vfTX2lJQ"
      },
      "source": [
        "2) Imprimir por pantalla el segundo elemento de la lista"
      ]
    },
    {
      "cell_type": "code",
      "execution_count": null,
      "metadata": {
        "id": "AR8WSvRR2lJR",
        "outputId": "7903a83b-827c-4f69-bee3-c0e09a94f8c2"
      },
      "outputs": [
        {
          "name": "stdout",
          "output_type": "stream",
          "text": [
            "Brasilia\n"
          ]
        }
      ],
      "source": [
        "print(lis[1])"
      ]
    },
    {
      "cell_type": "markdown",
      "metadata": {
        "id": "jYmiUnrW2lJT"
      },
      "source": [
        "3) Imprimir por pantalla del segundo al cuarto elemento"
      ]
    },
    {
      "cell_type": "code",
      "execution_count": null,
      "metadata": {
        "id": "LPZThzlQ2lJU",
        "outputId": "3582fdd2-7d06-4949-969b-f6533eaef7ce"
      },
      "outputs": [
        {
          "name": "stdout",
          "output_type": "stream",
          "text": [
            "['Brasilia', 'Asunción', 'Montevideo']\n"
          ]
        }
      ],
      "source": [
        "print(lis[1:4])"
      ]
    },
    {
      "cell_type": "markdown",
      "metadata": {
        "id": "_yzc9mMk2lJW"
      },
      "source": [
        "4) Visualizar el tipo de dato de la lista"
      ]
    },
    {
      "cell_type": "code",
      "execution_count": null,
      "metadata": {
        "id": "q0uV_qhJ2lJY",
        "outputId": "88d27703-a344-4f59-eb98-7cbcb233586e"
      },
      "outputs": [
        {
          "name": "stdout",
          "output_type": "stream",
          "text": [
            "<class 'list'>\n"
          ]
        }
      ],
      "source": [
        "print(type(lis))"
      ]
    },
    {
      "cell_type": "markdown",
      "metadata": {
        "id": "3nOu2AA72lJh"
      },
      "source": [
        "5) Visualizar todos los elementos de la lista a partir del tercero de manera genérica, es decir, sin explicitar la posición del último elemento"
      ]
    },
    {
      "cell_type": "code",
      "execution_count": null,
      "metadata": {
        "id": "jWoq2Qw12lJj",
        "outputId": "c3d722c9-ddd2-4331-947b-97519f211901"
      },
      "outputs": [
        {
          "name": "stdout",
          "output_type": "stream",
          "text": [
            "['Asunción', 'Montevideo', 'Santiago', 'Lima', 'Caracas', 'Bogotá']\n"
          ]
        }
      ],
      "source": [
        "print(lis[2:])"
      ]
    },
    {
      "cell_type": "markdown",
      "metadata": {
        "id": "4H7uyXWV2lJl"
      },
      "source": [
        "6) Visualizar los primeros 4 elementos de la lista"
      ]
    },
    {
      "cell_type": "code",
      "execution_count": null,
      "metadata": {
        "id": "k2A1Z6ZS2lJo",
        "outputId": "e83843e2-93af-4f81-bd02-76c0a968c82b"
      },
      "outputs": [
        {
          "name": "stdout",
          "output_type": "stream",
          "text": [
            "['Buenos Aires', 'Brasilia', 'Asunción', 'Montevideo']\n"
          ]
        }
      ],
      "source": [
        "print(lis[:4])\n",
        "    "
      ]
    },
    {
      "cell_type": "markdown",
      "metadata": {
        "id": "JaOSi9Qb2lJx"
      },
      "source": [
        "7) Agregar una ciudad más a la lista que ya exista y otra que no ¿Arroja algún tipo de error?"
      ]
    },
    {
      "cell_type": "code",
      "execution_count": null,
      "metadata": {
        "id": "PlUSvT1D2lJz"
      },
      "outputs": [],
      "source": [
        "lis.append('Ciudad de Méjico')"
      ]
    },
    {
      "cell_type": "code",
      "execution_count": null,
      "metadata": {
        "id": "U696w2r62lJ2"
      },
      "outputs": [],
      "source": [
        "lis.append('Montevideo')"
      ]
    },
    {
      "cell_type": "code",
      "execution_count": null,
      "metadata": {
        "id": "Gqbot0DP2lJ5",
        "outputId": "4d4026fc-49f1-486d-a267-3b8e24b061a3"
      },
      "outputs": [
        {
          "name": "stdout",
          "output_type": "stream",
          "text": [
            "['Buenos Aires', 'Brasilia', 'Asunción', 'Montevideo', 'Santiago', 'Lima', 'Caracas', 'Bogotá', 'Ciudad de Méjico', 'Montevideo']\n"
          ]
        }
      ],
      "source": [
        "print(lis)"
      ]
    },
    {
      "cell_type": "markdown",
      "metadata": {
        "id": "f7_SPyCl2lKA"
      },
      "source": [
        "8) Agregar otra ciudad, pero en la cuarta posición"
      ]
    },
    {
      "cell_type": "code",
      "execution_count": null,
      "metadata": {
        "id": "CjyVtDFW2lKB"
      },
      "outputs": [],
      "source": [
        "lis.insert(3, 'Quito')"
      ]
    },
    {
      "cell_type": "code",
      "execution_count": null,
      "metadata": {
        "id": "SFel26VW2lKD",
        "outputId": "fbad4c42-7b74-4086-8ca5-e5f4023cc42f"
      },
      "outputs": [
        {
          "name": "stdout",
          "output_type": "stream",
          "text": [
            "['Buenos Aires', 'Brasilia', 'Asunción', 'Quito', 'Montevideo', 'Santiago', 'Lima', 'Caracas', 'Bogotá', 'Ciudad de Méjico', 'Montevideo']\n"
          ]
        }
      ],
      "source": [
        "print(lis)"
      ]
    },
    {
      "cell_type": "markdown",
      "metadata": {
        "id": "NrGzY7mg2lKE"
      },
      "source": [
        "9) Concatenar otra lista a la ya creada"
      ]
    },
    {
      "cell_type": "code",
      "execution_count": null,
      "metadata": {
        "id": "MKGsJLjc2lKG",
        "outputId": "e33c80d8-fe7f-4f0e-80fb-e0d0657fab70"
      },
      "outputs": [
        {
          "name": "stdout",
          "output_type": "stream",
          "text": [
            "['Buenos Aires', 'Brasilia', 'Asunción', 'Quito', 'Montevideo', 'Santiago', 'Lima', 'Caracas', 'Bogotá', 'Ciudad de Méjico', 'Montevideo', 'Madrid', 'Roma', 'Bruselas']\n"
          ]
        }
      ],
      "source": [
        "lis.extend(['Madrid','Roma','Bruselas'])\n",
        "print(lis)"
      ]
    },
    {
      "cell_type": "markdown",
      "metadata": {
        "id": "yTHm_gOP2lKI"
      },
      "source": [
        "10) Encontrar el índice de la ciudad que en el punto 7 agregamos duplicada. ¿Se nota alguna particularidad?"
      ]
    },
    {
      "cell_type": "code",
      "execution_count": null,
      "metadata": {
        "id": "27fOdYVp2lKN",
        "outputId": "f27c81a4-d8dd-41eb-ab1f-78c2b2bd446f"
      },
      "outputs": [
        {
          "name": "stdout",
          "output_type": "stream",
          "text": [
            "4\n"
          ]
        }
      ],
      "source": [
        "print(lis.index('Montevideo'))"
      ]
    },
    {
      "cell_type": "markdown",
      "metadata": {
        "id": "xqk0dTPv2lKQ"
      },
      "source": [
        "11) ¿Qué pasa si se busca un elemento que no existe?"
      ]
    },
    {
      "cell_type": "code",
      "execution_count": null,
      "metadata": {
        "id": "92Ct3j5D2lKR",
        "outputId": "470fb2bb-dd02-40f9-e4d6-66c318bf9f60"
      },
      "outputs": [
        {
          "ename": "ValueError",
          "evalue": "'París' is not in list",
          "output_type": "error",
          "traceback": [
            "\u001b[1;31m---------------------------------------------------------------------------\u001b[0m",
            "\u001b[1;31mValueError\u001b[0m                                Traceback (most recent call last)",
            "\u001b[1;32m~\\AppData\\Local\\Temp/ipykernel_2688/2999708316.py\u001b[0m in \u001b[0;36m<module>\u001b[1;34m\u001b[0m\n\u001b[1;32m----> 1\u001b[1;33m \u001b[0mprint\u001b[0m\u001b[1;33m(\u001b[0m\u001b[0mlis\u001b[0m\u001b[1;33m.\u001b[0m\u001b[0mindex\u001b[0m\u001b[1;33m(\u001b[0m\u001b[1;34m'París'\u001b[0m\u001b[1;33m)\u001b[0m\u001b[1;33m)\u001b[0m\u001b[1;33m\u001b[0m\u001b[1;33m\u001b[0m\u001b[0m\n\u001b[0m",
            "\u001b[1;31mValueError\u001b[0m: 'París' is not in list"
          ]
        }
      ],
      "source": [
        "print(lis.index('París'))"
      ]
    },
    {
      "cell_type": "markdown",
      "metadata": {
        "id": "nfNjTUO92lKT"
      },
      "source": [
        "12) Eliminar un elemento de la lista"
      ]
    },
    {
      "cell_type": "code",
      "execution_count": null,
      "metadata": {
        "id": "HthWTTkW2lKU"
      },
      "outputs": [],
      "source": [
        "lis.remove('Buenos Aires')"
      ]
    },
    {
      "cell_type": "code",
      "execution_count": null,
      "metadata": {
        "id": "BmqsNqmp2lKV",
        "outputId": "47fff04f-f3f5-4df9-dcbc-62bc05864793"
      },
      "outputs": [
        {
          "name": "stdout",
          "output_type": "stream",
          "text": [
            "['Brasilia', 'Asunción', 'Quito', 'Montevideo', 'Santiago', 'Lima', 'Caracas', 'Bogotá', 'Ciudad de Méjico', 'Montevideo', 'Madrid', 'Roma', 'Bruselas']\n"
          ]
        }
      ],
      "source": [
        "print(lis)"
      ]
    },
    {
      "cell_type": "markdown",
      "metadata": {
        "id": "5jTrkPsL2lKX"
      },
      "source": [
        "13) ¿Qué pasa si el elemento a eliminar no existe?"
      ]
    },
    {
      "cell_type": "code",
      "execution_count": null,
      "metadata": {
        "id": "02dhH_cE2lKY",
        "outputId": "30d3fde0-7fef-4bf2-9b98-9b67a2524e0a"
      },
      "outputs": [
        {
          "ename": "ValueError",
          "evalue": "list.remove(x): x not in list",
          "output_type": "error",
          "traceback": [
            "\u001b[1;31m---------------------------------------------------------------------------\u001b[0m",
            "\u001b[1;31mValueError\u001b[0m                                Traceback (most recent call last)",
            "\u001b[1;32m~\\AppData\\Local\\Temp/ipykernel_2688/2377769693.py\u001b[0m in \u001b[0;36m<module>\u001b[1;34m\u001b[0m\n\u001b[1;32m----> 1\u001b[1;33m \u001b[0mlis\u001b[0m\u001b[1;33m.\u001b[0m\u001b[0mremove\u001b[0m\u001b[1;33m(\u001b[0m\u001b[1;34m'Buenos Aires'\u001b[0m\u001b[1;33m)\u001b[0m\u001b[1;33m\u001b[0m\u001b[1;33m\u001b[0m\u001b[0m\n\u001b[0m",
            "\u001b[1;31mValueError\u001b[0m: list.remove(x): x not in list"
          ]
        }
      ],
      "source": [
        "lis.remove('Buenos Aires')"
      ]
    },
    {
      "cell_type": "markdown",
      "metadata": {
        "id": "rRqqUBUZ2lKZ"
      },
      "source": [
        "14) Extraer el úlimo elemento de la lista, guardarlo en una variable e imprimirlo"
      ]
    },
    {
      "cell_type": "code",
      "execution_count": null,
      "metadata": {
        "id": "9ftZjZ_g2lKb",
        "outputId": "fc5c5b1a-95af-4a16-8ae7-f48c1b97e0b6"
      },
      "outputs": [
        {
          "name": "stdout",
          "output_type": "stream",
          "text": [
            "Bruselas\n"
          ]
        }
      ],
      "source": [
        "ultimo = lis.pop()\n",
        "print(ultimo)"
      ]
    },
    {
      "cell_type": "markdown",
      "metadata": {
        "id": "uJIJzIBX2lKi"
      },
      "source": [
        "15) Mostrar la lista multiplicada por 4"
      ]
    },
    {
      "cell_type": "code",
      "execution_count": null,
      "metadata": {
        "id": "qu5Gep552lKj",
        "outputId": "5cbbc9fd-5cc0-46c3-e4b3-2f7641285f3c"
      },
      "outputs": [
        {
          "name": "stdout",
          "output_type": "stream",
          "text": [
            "['Brasilia', 'Asunción', 'Quito', 'Montevideo', 'Santiago', 'Lima', 'Caracas', 'Bogotá', 'Ciudad de Méjico', 'Montevideo', 'Madrid', 'Roma', 'Brasilia', 'Asunción', 'Quito', 'Montevideo', 'Santiago', 'Lima', 'Caracas', 'Bogotá', 'Ciudad de Méjico', 'Montevideo', 'Madrid', 'Roma', 'Brasilia', 'Asunción', 'Quito', 'Montevideo', 'Santiago', 'Lima', 'Caracas', 'Bogotá', 'Ciudad de Méjico', 'Montevideo', 'Madrid', 'Roma', 'Brasilia', 'Asunción', 'Quito', 'Montevideo', 'Santiago', 'Lima', 'Caracas', 'Bogotá', 'Ciudad de Méjico', 'Montevideo', 'Madrid', 'Roma']\n"
          ]
        }
      ],
      "source": [
        "print(lis * 4)"
      ]
    },
    {
      "cell_type": "markdown",
      "metadata": {
        "id": "RgKovwIz2lKl"
      },
      "source": [
        "16) Crear una tupla que contenga los números enteros del 1 al 20"
      ]
    },
    {
      "cell_type": "code",
      "execution_count": null,
      "metadata": {
        "id": "wdrGvq8q2lKm",
        "outputId": "48eb9bd5-1037-4c8f-eb5d-05592ac50da0"
      },
      "outputs": [
        {
          "name": "stdout",
          "output_type": "stream",
          "text": [
            "<class 'tuple'>\n",
            "(1, 2, 3, 4, 5, 6, 7, 8, 9, 10, 11, 12, 13, 14, 15, 16, 17, 18, 19, 20)\n"
          ]
        }
      ],
      "source": [
        "tup = (1,2,3,4,5,6,7,8,9,10,11,12,13,14,15,16,17,18,19,20)\n",
        "print(type(tup))\n",
        "print(tup)"
      ]
    },
    {
      "cell_type": "markdown",
      "metadata": {
        "id": "7XZM6pQH2lKp"
      },
      "source": [
        "17) Imprimir desde el índice 10 al 15 de la tupla"
      ]
    },
    {
      "cell_type": "code",
      "execution_count": null,
      "metadata": {
        "id": "G08gJw812lKr",
        "outputId": "a3925705-37f7-43a7-88e7-4f8bcdcd47d6"
      },
      "outputs": [
        {
          "name": "stdout",
          "output_type": "stream",
          "text": [
            "(11, 12, 13, 14, 15, 16)\n"
          ]
        }
      ],
      "source": [
        "print(tup[10:16])"
      ]
    },
    {
      "cell_type": "markdown",
      "metadata": {
        "id": "cWs_B0uq2lKz"
      },
      "source": [
        "18) Evaluar si los números 20 y 30 están dentro de la tupla"
      ]
    },
    {
      "cell_type": "code",
      "execution_count": null,
      "metadata": {
        "id": "5OSlWx9b2lK0",
        "outputId": "63cfc2f4-4e33-41cb-91dd-9aab365ef17d"
      },
      "outputs": [
        {
          "name": "stdout",
          "output_type": "stream",
          "text": [
            "True\n",
            "False\n"
          ]
        }
      ],
      "source": [
        "print(20 in tup)\n",
        "print(30 in tup)"
      ]
    },
    {
      "cell_type": "markdown",
      "metadata": {
        "id": "nDn-9UBn2lK2"
      },
      "source": [
        "19) Con la lista creada en el punto 1, validar la existencia del elemento 'París' y si no existe, agregarlo. Utilizar una variable e informar lo sucedido."
      ]
    },
    {
      "cell_type": "code",
      "execution_count": null,
      "metadata": {
        "id": "uwyJ7XI92lK3",
        "outputId": "0b476860-14ae-4fbe-f3fb-cc0798ceeb1a"
      },
      "outputs": [
        {
          "name": "stdout",
          "output_type": "stream",
          "text": [
            "Se insertó el elemento París\n"
          ]
        }
      ],
      "source": [
        "elemento = 'París'\n",
        "if (not(elemento in lis)):\n",
        "    lis.append(elemento)\n",
        "    print('Se insertó el elemento', elemento)\n",
        "else:\n",
        "    print('El elemento', elemento, 'ya existía')\n"
      ]
    },
    {
      "cell_type": "markdown",
      "metadata": {
        "id": "r_6rPR282lK_"
      },
      "source": [
        "20) Mostrar la cantidad de veces que se encuentra un elemento específico dentro de la tupla y de la lista"
      ]
    },
    {
      "cell_type": "code",
      "execution_count": null,
      "metadata": {
        "id": "yH_J42W52lLC",
        "outputId": "bb259e03-e0d1-4ca1-fa0d-533e855ebd74"
      },
      "outputs": [
        {
          "name": "stdout",
          "output_type": "stream",
          "text": [
            "1\n",
            "2\n"
          ]
        }
      ],
      "source": [
        "print(tup.count(10))\n",
        "print(lis.count('Montevideo'))"
      ]
    },
    {
      "cell_type": "markdown",
      "metadata": {
        "id": "_HSY96ex2lLE"
      },
      "source": [
        "21) Convertir la tupla en una lista"
      ]
    },
    {
      "cell_type": "code",
      "execution_count": null,
      "metadata": {
        "id": "9BpOqKy82lLF",
        "outputId": "9e523c8f-6a5b-4aa2-f61a-c18b94b88892"
      },
      "outputs": [
        {
          "name": "stdout",
          "output_type": "stream",
          "text": [
            "[1, 2, 3, 4, 5, 6, 7, 8, 9, 10, 11, 12, 13, 14, 15, 16, 17, 18, 19, 20]\n"
          ]
        }
      ],
      "source": [
        "lis2=list(tup)\n",
        "print(lis2)"
      ]
    },
    {
      "cell_type": "markdown",
      "metadata": {
        "id": "qIBZwWxu2lLH"
      },
      "source": [
        "22) Desempaquetar solo los primeros 3 elementos de la tupla en 3 variables"
      ]
    },
    {
      "cell_type": "code",
      "execution_count": null,
      "metadata": {
        "id": "WPGtS32s2lLI",
        "outputId": "eae98b26-6551-4d85-9664-b798cbeec10a"
      },
      "outputs": [
        {
          "name": "stdout",
          "output_type": "stream",
          "text": [
            "1\n",
            "2\n",
            "3\n"
          ]
        }
      ],
      "source": [
        "v1, v2, v3, _, _, _, _, _, _, _, _, _, _, _, _, _, _, _, _, _ = tup\n",
        "print(v1)\n",
        "print(v2)\n",
        "print(v3)"
      ]
    },
    {
      "cell_type": "markdown",
      "metadata": {
        "id": "MlBFYrSR2lLJ"
      },
      "source": [
        "23) Crear un diccionario utilizando la lista crada en el punto 1, asignandole la clave \"ciudad\". Agregar tambien otras claves, como puede ser \"Pais\" y \"Continente\"."
      ]
    },
    {
      "cell_type": "code",
      "source": [
        "lis2 = [\"Brasil\",\"Paraguay\",\"Ecuador\",\"Urugauy\",\"Chile\",\"Venezuela\"]\n",
        "lis3 = [\"America\",\"America\",\"Europa\"]"
      ],
      "metadata": {
        "id": "1fqT1Xyi42PN"
      },
      "execution_count": 6,
      "outputs": []
    },
    {
      "cell_type": "code",
      "source": [],
      "metadata": {
        "id": "B0kIhlip5aNO"
      },
      "execution_count": null,
      "outputs": []
    },
    {
      "cell_type": "code",
      "source": [
        "d = {\"T\":lis,\n",
        "    \"P\":[\"Brasil\",\"Paraguay\",\"Ecuador\",\"Urugauy\",\"Chile\",\"Venezuela\"],\n",
        "    \"C\" : [\"America\",\"America\",\"Europa\"]\n",
        "    }\n",
        "print(d)"
      ],
      "metadata": {
        "id": "vVkOV0eh3ojj",
        "outputId": "8e3e57ef-3384-4c2f-ecc5-bee95dd7227d",
        "colab": {
          "base_uri": "https://localhost:8080/"
        }
      },
      "execution_count": 18,
      "outputs": [
        {
          "output_type": "stream",
          "name": "stdout",
          "text": [
            "{'T': ['Buenos Aires', 'Brasilia', 'Asunción', 'Montevideo', 'Santiago', 'Lima', 'Caracas', 'Bogotá'], 'P': ['Brasil', 'Paraguay', 'Ecuador', 'Urugauy', 'Chile', 'Venezuela'], 'C': ['America', 'America', 'Europa']}\n"
          ]
        }
      ]
    },
    {
      "cell_type": "code",
      "execution_count": 9,
      "metadata": {
        "id": "9MxeyQmg2lLL"
      },
      "outputs": [],
      "source": [
        "dicc = {  'Ciudad': lis, \n",
        "'País': ['Brasil','Paraguay','Ecuador','Uruguay','Chile','Perú','Venezuela','Colombia','Méjico','Uruguay','España','Italia','Francia'], \n",
        "'Continente' : ['América','América','América','América','América','América','América','América','América','América','Europa','Europa','Europa']}"
      ]
    },
    {
      "cell_type": "code",
      "execution_count": null,
      "metadata": {
        "id": "VUajLy7U2lLM",
        "outputId": "21c30394-eb31-4b60-e66a-d5bfbb3ff4be"
      },
      "outputs": [
        {
          "name": "stdout",
          "output_type": "stream",
          "text": [
            "{'Ciudad': ['Brasilia', 'Asunción', 'Quito', 'Montevideo', 'Santiago', 'Lima', 'Caracas', 'Bogotá', 'Ciudad de Méjico', 'Montevideo', 'Madrid', 'Roma', 'París'], 'País': ['Brasil', 'Paraguay', 'Ecuador', 'Uruguay', 'Chile', 'Perú', 'Venezuela', 'Colombia', 'Méjico', 'Uruguay', 'España', 'Italia', 'Francia'], 'Continente': ['América', 'América', 'América', 'América', 'América', 'América', 'América', 'América', 'América', 'América', 'Europa', 'Europa', 'Europa']}\n"
          ]
        }
      ],
      "source": [
        "print(dicc)"
      ]
    },
    {
      "cell_type": "markdown",
      "metadata": {
        "id": "9A6slG6f2lLS"
      },
      "source": [
        "24) Imprimir las claves del diccionario"
      ]
    },
    {
      "cell_type": "code",
      "execution_count": 19,
      "metadata": {
        "id": "H2xDSGMX2lLU",
        "outputId": "ff01adc0-9d6d-49cd-adcd-a234233b4eec",
        "colab": {
          "base_uri": "https://localhost:8080/"
        }
      },
      "outputs": [
        {
          "output_type": "stream",
          "name": "stdout",
          "text": [
            "dict_keys(['T', 'P', 'C'])\n"
          ]
        }
      ],
      "source": [
        "print(d.keys())"
      ]
    },
    {
      "cell_type": "code",
      "source": [
        "print(dicc.keys())"
      ],
      "metadata": {
        "id": "j4EwcsRD5fKk",
        "outputId": "9b05059b-0107-44d1-f641-1391f8491d5d",
        "colab": {
          "base_uri": "https://localhost:8080/"
        }
      },
      "execution_count": 20,
      "outputs": [
        {
          "output_type": "stream",
          "name": "stdout",
          "text": [
            "dict_keys(['Ciudad', 'País', 'Continente'])\n"
          ]
        }
      ]
    },
    {
      "cell_type": "markdown",
      "metadata": {
        "id": "v469N1fU2lLV"
      },
      "source": [
        "25) Imprimir las ciudades a través de su clave"
      ]
    },
    {
      "cell_type": "code",
      "source": [
        "print(d['T'])\n"
      ],
      "metadata": {
        "id": "FWfuYFKP9H1s",
        "outputId": "341430e9-60bc-4c8d-a3a9-e4fee0c7b915",
        "colab": {
          "base_uri": "https://localhost:8080/"
        }
      },
      "execution_count": 22,
      "outputs": [
        {
          "output_type": "stream",
          "name": "stdout",
          "text": [
            "['Buenos Aires', 'Brasilia', 'Asunción', 'Montevideo', 'Santiago', 'Lima', 'Caracas', 'Bogotá']\n"
          ]
        }
      ]
    },
    {
      "cell_type": "code",
      "execution_count": null,
      "metadata": {
        "id": "mwUig4Ix2lLW",
        "outputId": "51acc7c3-128c-4776-f47f-81573a644ba8"
      },
      "outputs": [
        {
          "name": "stdout",
          "output_type": "stream",
          "text": [
            "['Brasilia', 'Asunción', 'Quito', 'Montevideo', 'Santiago', 'Lima', 'Caracas', 'Bogotá', 'Ciudad de Méjico', 'Montevideo', 'Madrid', 'Roma', 'París']\n"
          ]
        }
      ],
      "source": [
        "print(dicc['Ciudad'])"
      ]
    }
  ],
  "metadata": {
    "interpreter": {
      "hash": "c85384e4cb51c8b72350f3a8712cc8351fdc3955e32a27f9b60c6242ab125f01"
    },
    "kernelspec": {
      "display_name": "Python 3 (ipykernel)",
      "language": "python",
      "name": "python3"
    },
    "language_info": {
      "codemirror_mode": {
        "name": "ipython",
        "version": 3
      },
      "file_extension": ".py",
      "mimetype": "text/x-python",
      "name": "python",
      "nbconvert_exporter": "python",
      "pygments_lexer": "ipython3",
      "version": "3.9.7"
    },
    "colab": {
      "provenance": [],
      "include_colab_link": true
    }
  },
  "nbformat": 4,
  "nbformat_minor": 0
}